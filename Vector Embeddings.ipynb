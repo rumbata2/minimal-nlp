{
 "cells": [
  {
   "attachments": {},
   "cell_type": "markdown",
   "metadata": {},
   "source": [
    "In natural language, the syntax of different words may not at all be related to their semantics:\n",
    "- *beautiful* and *attractive* have mostly the same meaning\n",
    "- *beautiful* and *ugly* have mostly the opposite meaning\n",
    "- *cat* and *dog* are not the same but they have semantic similarities\n",
    "- *basketball* and *hoop* are not the same but they belong to the same [semantic field](https://en.wikipedia.org/wiki/Semantic_field)\n",
    "\n",
    "In order to capture meaning, we use **vector embeddings** - words will be points in the euclidean space $\\mathbb{R}^n$.\n",
    "\n",
    "Consider the following texts, often called **documents**:\n",
    "\n",
    "<details>\n",
    "    <summary>doc1.txt</summary>\n",
    "\n",
    "Cooking acids tend to be mellow, transforming the foods with which they are cooked slowly, over time.\n",
    "They can be extraordinarily subtle; while their presence may go undetected, their absence is sharply felt.\n",
    "I learned this painful lesson when at the request of a distant relative, I tried to make beef bourguignon without the Bourgogne in Iran,\n",
    "where wine isn’t readily available. No matter what I did, I couldn’t get the dish to taste right without that crucial ingredient.\n",
    "\n",
    "Give acid the time it needs to do its silent work when macerating shallots and onions.\n",
    "Macerate, from Latin, “to soften,” refers to the process whereby ingredients soak in some form of acid — \n",
    "usually vinegar or citrus juice—to soften their harshness. Simply coat the shallots or onions in acid—they don’t need to be completely submerged.\n",
    "If you plan on using a couple of tablespoons of vinegar for a dressing, just coat the shallots with it first, \n",
    "and wait 15 or 20 minutes before adding oil to build the dressing in the same cup or bowl. It will be enough to prevent dragon breath.\n",
    "\n",
    "There’s no replacement for working acid early into braises and stews; the remarkable alchemy of time and heat will soften any dish’s sharp edges.\n",
    "Omit the tomatoes and beer from Pork Braised with Chillies and the sweetness of the aromatic base of onions and garlic will dominate.\n",
    "The sweetness resulting from browning needs the foil of acid, too. \n",
    "Deglazing a pan with wine, whether for risotto, pork chops, fish fillets, or a more complex reduction sauce will keep a dish from skewing too sweet.\n",
    "\n",
    "</details>\n",
    "\n",
    "<details>\n",
    "    <summary>doc2.txt</summary>\n",
    "\n",
    "Tyler gets me a job as a waiter, after that Tyler's pushing a gun in my mouth and saying, the first step to eternal life is you have to die. \n",
    "For a long time though, Tyler and I were best friends. People are always asking, did I know about Tyler Durden.\n",
    "\n",
    "The barrel of the gun pressed against the back of my throat, Tyler says 'We really won't die.'\n",
    "\n",
    "With my tongue I can feel the silencer holes we drilled into the barrel of the gun. Most of the noise a gunshot makes is expanding gases,\n",
    "and there's the tiny sonic boom a bullet makes because it travels so fast. To make a silencer, you just drill holes in the barrel of the gun, \n",
    "a lot of holes. This lets the gas escape and slows the bullet to below the speed of sound.\n",
    "\n",
    "You drill the holes wrong and the gun will blow off your hand.\n",
    "\n",
    "'This isn't really death,' Tyler says. 'We'll be legend. We won't grow old.'\n",
    "\n",
    "I tongue the barrel into my cheek and say, Tyler, you're thinking of vampires.\n",
    "\n",
    "The building we're standing on won't be here in ten minutes. You take a 98% concentration of fuming nitric acid and add the acid\n",
    "to three times that amount of sulfuric acid. Do this in an ice bath. Then add glycerin drop-by-drop with an eye dropper. You have nitroglycerin.\n",
    "I know this because Tyler knows this.\n",
    "\n",
    "Mix the nitro with sawdust, and you have a nice plastic explosive. A lot of folks mix their nitro with cotton and add Epsom salts as a sulfate. \n",
    "This works too. Some folks, they use paraffin mixed with nitro. Paraffin has never, ever worked for me.\n",
    "\n",
    "So Tyler and I are on top of the Parker-Morris Building with the gun stuck in my mouth, and we hear glass breaking. Look over the edge. \n",
    "It's a cloudy day, even this high up. This is the world's tallest building, and this high up the wind is always cold. It's so quiet this high up,\n",
    "the feeling you get is that you're one of those space monkeys. You do the little job you're trained to do.\n",
    "\n",
    "Pull a lever.\n",
    "\n",
    "Push a button.\n",
    "\n",
    "You don't understand any of it, and then you just die.\n",
    "\n",
    "</details>\n",
    "\n"
   ]
  },
  {
   "attachments": {},
   "cell_type": "markdown",
   "metadata": {},
   "source": [
    "testing"
   ]
  },
  {
   "cell_type": "code",
   "execution_count": null,
   "metadata": {},
   "outputs": [],
   "source": [
    "print('test')"
   ]
  },
  {
   "attachments": {},
   "cell_type": "markdown",
   "metadata": {},
   "source": [
    "testing"
   ]
  }
 ],
 "metadata": {
  "kernelspec": {
   "display_name": "venv",
   "language": "python",
   "name": "python3"
  },
  "language_info": {
   "codemirror_mode": {
    "name": "ipython",
    "version": 3
   },
   "file_extension": ".py",
   "mimetype": "text/x-python",
   "name": "python",
   "nbconvert_exporter": "python",
   "pygments_lexer": "ipython3",
   "version": "3.10.12"
  },
  "orig_nbformat": 4
 },
 "nbformat": 4,
 "nbformat_minor": 2
}
