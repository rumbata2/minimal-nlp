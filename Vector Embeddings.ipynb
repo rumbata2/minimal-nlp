{
 "cells": [
  {
   "attachments": {},
   "cell_type": "markdown",
   "metadata": {},
   "source": [
    "In natural language, the syntax of different words may not at all be related to their semantics:\n",
    "- *beautiful* and *attractive* have mostly the same meaning\n",
    "- *beautiful* and *ugly* have mostly the opposite meaning\n",
    "- *cat* and *dog* are not the same but they have semantic similarities\n",
    "- *basketball* and *hoop* are not the same but they belong to the same [semantic field](https://en.wikipedia.org/wiki/Semantic_field)\n",
    "\n",
    "In order to capture meaning, we use **vector embeddings** - words will be points in the euclidean space $\\mathbb{R}^n$."
   ]
  }
 ],
 "metadata": {
  "language_info": {
   "name": "python"
  },
  "orig_nbformat": 4
 },
 "nbformat": 4,
 "nbformat_minor": 2
}
